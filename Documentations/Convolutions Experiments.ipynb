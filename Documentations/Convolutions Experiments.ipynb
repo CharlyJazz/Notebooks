{
 "cells": [
  {
   "cell_type": "code",
   "execution_count": null,
   "metadata": {},
   "outputs": [],
   "source": [
    "import numpy as np\n",
    "from PIL import Image\n",
    "import matplotlib.pyplot as plt\n",
    "\n",
    "image_original = Image.open('C:/Users/Sotfvision/Desktop/descarga (1).jpg')\n",
    "image_as_array = np.asarray(image_original)\n",
    "new_image_matrix = np.zeros(image_as_array.shape, dtype=np.int8)\n",
    "gaussian_kernel = [[1 / 256, 4  / 256,  6 / 256,  4 / 256, 1 / 256],\n",
    "                   [4 / 256, 16 / 256, 24 / 256, 16 / 256, 4 / 256],\n",
    "                   [6 / 256, 24 / 256, 36 / 256, 24 / 256, 6 / 256],\n",
    "                   [4 / 256, 16 / 256, 24 / 256, 16 / 256, 4 / 256],\n",
    "                   [1 / 256, 4  / 256,  6 / 256,  4 / 256, 1 / 256]]\n",
    "offset = len(gaussian_kernel) // 2\n",
    "for x in range(offset, image_as_array.shape[0]  - offset) :\n",
    "    for y in range(offset, image_as_array.shape[1] - offset):\n",
    "        new_pixel = np.zeros(3, dtype=np.int8)\n",
    "        for a in range(len(gaussian_kernel)):\n",
    "            for b in range(len(gaussian_kernel)):\n",
    "                print('X', x, 'Y', y, 'A', a, 'B', b)\n",
    "                x_fixed = x + a - offset \n",
    "                y_fixed = y + b - offset \n",
    "                pixel = image_as_array[x_fixed][y_fixed]\n",
    "                new_pixel[0] += pixel[0] * gaussian_kernel[a][b]                  \n",
    "                new_pixel[1] += pixel[1] * gaussian_kernel[a][b]\n",
    "                new_pixel[2] += pixel[2] * gaussian_kernel[a][b]\n",
    "                \n",
    "        if new_pixel[0] > 255:\n",
    "            new_pixel[0] = 255\n",
    "        if new_pixel[1] > 255:\n",
    "            new_pixel[1] = 255\n",
    "        if new_pixel[2] > 255:\n",
    "            new_pixel[2] = 255\n",
    "        if new_pixel[0] < 0:\n",
    "            new_pixel[0] = 0\n",
    "        if new_pixel[1] < 0:\n",
    "            new_pixel[1] = 0\n",
    "        if new_pixel[2] < 0:\n",
    "            new_pixel[2] = 0\n",
    "        \n",
    "        new_image_matrix[x][y] = new_pixel\n",
    "\n",
    "\n",
    "f, axarr = plt.subplots(2,1) \n",
    "axarr[0].imshow((new_image_matrix)) # * 255).astype(np.uint8))\n",
    "axarr[1].imshow(image_original)"
   ]
  }
 ],
 "metadata": {
  "kernelspec": {
   "display_name": "Python 3",
   "language": "python",
   "name": "python3"
  },
  "language_info": {
   "codemirror_mode": {
    "name": "ipython",
    "version": 3
   },
   "file_extension": ".py",
   "mimetype": "text/x-python",
   "name": "python",
   "nbconvert_exporter": "python",
   "pygments_lexer": "ipython3",
   "version": "3.8.5"
  }
 },
 "nbformat": 4,
 "nbformat_minor": 4
}

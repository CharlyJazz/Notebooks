{
 "cells": [
  {
   "cell_type": "markdown",
   "id": "9c0e94d5",
   "metadata": {},
   "source": [
    "### Esquema\n",
    "\n",
    "- Preparacion de entorno\n",
    "- Análisis exploratorio.\n",
    "- Limpieza.\n",
    "- Desarrollo y entrenamiento del modelo.\n",
    "- Búsqueda de hiper-parámetros y selección del modelo."
   ]
  },
  {
   "cell_type": "markdown",
   "id": "d29ab341",
   "metadata": {},
   "source": [
    "## Preparacion de entorno"
   ]
  },
  {
   "cell_type": "code",
   "execution_count": 1,
   "id": "2d30ae27",
   "metadata": {},
   "outputs": [
    {
     "name": "stdout",
     "output_type": "stream",
     "text": [
      "zsh:1: no matches found: pandas-profiling[notebook]\n",
      "Enabling notebook extension jupyter-js-widgets/extension...\n",
      "      - Validating: \u001b[32mOK\u001b[0m\n"
     ]
    }
   ],
   "source": [
    "import sys\n",
    "!{sys.executable} -m pip install -U pandas-profiling[notebook]\n",
    "!jupyter nbextension enable --py widgetsnbextension"
   ]
  },
  {
   "cell_type": "code",
   "execution_count": 2,
   "id": "7c85061a",
   "metadata": {},
   "outputs": [],
   "source": [
    "import matplotlib.pyplot as plt\n",
    "import numpy as np\n",
    "import pandas as pd\n",
    "import seaborn as sbn\n",
    "import missingno as msno\n",
    "from pandas_profiling import ProfileReport\n",
    "from sklearn.preprocessing import OneHotEncoder\n",
    "\n",
    "DATASET_PATH = '/Users/charlyjazz/Charlyjazz/precio_locales_CABA.csv'\n",
    "\n",
    "df = dataframe = pd.read_csv(DATASET_PATH, encoding='utf-8')"
   ]
  },
  {
   "cell_type": "code",
   "execution_count": 3,
   "id": "d7d493fa",
   "metadata": {},
   "outputs": [],
   "source": [
    "def display_metrics_test_train_rmse(metrics, set_ylim1, set_ylim2):\n",
    "    fig, axes = plt.subplots(figsize=(16, 6), ncols=2)\n",
    "    for hyperparm_value, hyperparm_metrics in metrics.items():\n",
    "        for j, (metric_name, metric_values) in enumerate(hyperparm_metrics.items()):\n",
    "            ax = axes[j]\n",
    "            ax.set_ylabel(metric_name)\n",
    "            x_plot = epochs\n",
    "            y_plot = metric_values\n",
    "            ax.plot(x_plot, y_plot, label=f'{hyperparm_value:f}')\n",
    "\n",
    "    for ax in axes:\n",
    "        ax.set_xlabel('Época')\n",
    "\n",
    "    legend = axes[0].legend()\n",
    "    legend.set_title('Learning Rate')\n",
    "    \n",
    "    if set_ylim1:\n",
    "        axes[0].set_ylim(*set_ylim1)\n",
    "    if set_ylim2:\n",
    "        axes[1].set_ylim(*set_ylim2)\n",
    "\n",
    "    plt.tight_layout()\n",
    "    plt.show()"
   ]
  },
  {
   "cell_type": "markdown",
   "id": "92429563",
   "metadata": {},
   "source": [
    "## Analisis Exploratorio"
   ]
  },
  {
   "cell_type": "code",
   "execution_count": 4,
   "id": "a18000d7",
   "metadata": {},
   "outputs": [
    {
     "data": {
      "text/html": [
       "<div>\n",
       "<style scoped>\n",
       "    .dataframe tbody tr th:only-of-type {\n",
       "        vertical-align: middle;\n",
       "    }\n",
       "\n",
       "    .dataframe tbody tr th {\n",
       "        vertical-align: top;\n",
       "    }\n",
       "\n",
       "    .dataframe thead th {\n",
       "        text-align: right;\n",
       "    }\n",
       "</style>\n",
       "<table border=\"1\" class=\"dataframe\">\n",
       "  <thead>\n",
       "    <tr style=\"text-align: right;\">\n",
       "      <th></th>\n",
       "      <th>antig</th>\n",
       "      <th>m2total</th>\n",
       "      <th>m2cub</th>\n",
       "      <th>ambientes</th>\n",
       "      <th>banios</th>\n",
       "      <th>barrio</th>\n",
       "      <th>comuna</th>\n",
       "      <th>latitud</th>\n",
       "      <th>longitud</th>\n",
       "      <th>precioUSD</th>\n",
       "      <th>m2precioUSD</th>\n",
       "      <th>comisaria_dista</th>\n",
       "      <th>obelisco_dista</th>\n",
       "      <th>nrobos</th>\n",
       "      <th>sup_espacio_verde</th>\n",
       "      <th>count_gastronomia</th>\n",
       "      <th>count_culturales</th>\n",
       "    </tr>\n",
       "  </thead>\n",
       "  <tbody>\n",
       "    <tr>\n",
       "      <th>0</th>\n",
       "      <td>0</td>\n",
       "      <td>200</td>\n",
       "      <td>200</td>\n",
       "      <td>0</td>\n",
       "      <td>0</td>\n",
       "      <td>LINIERS</td>\n",
       "      <td>9</td>\n",
       "      <td>-34.639300</td>\n",
       "      <td>-58.528647</td>\n",
       "      <td>1500000</td>\n",
       "      <td>7500.000000</td>\n",
       "      <td>1162.621600</td>\n",
       "      <td>14053.797191</td>\n",
       "      <td>134</td>\n",
       "      <td>68426.445</td>\n",
       "      <td>12</td>\n",
       "      <td>0</td>\n",
       "    </tr>\n",
       "    <tr>\n",
       "      <th>1</th>\n",
       "      <td>30</td>\n",
       "      <td>50</td>\n",
       "      <td>50</td>\n",
       "      <td>0</td>\n",
       "      <td>1</td>\n",
       "      <td>VILLA DEVOTO</td>\n",
       "      <td>11</td>\n",
       "      <td>-34.611807</td>\n",
       "      <td>-58.528138</td>\n",
       "      <td>125000</td>\n",
       "      <td>2500.000000</td>\n",
       "      <td>1887.227055</td>\n",
       "      <td>13473.139375</td>\n",
       "      <td>23</td>\n",
       "      <td>110997.543</td>\n",
       "      <td>3</td>\n",
       "      <td>0</td>\n",
       "    </tr>\n",
       "    <tr>\n",
       "      <th>2</th>\n",
       "      <td>30</td>\n",
       "      <td>414</td>\n",
       "      <td>414</td>\n",
       "      <td>0</td>\n",
       "      <td>2</td>\n",
       "      <td>VILLA REAL</td>\n",
       "      <td>10</td>\n",
       "      <td>-34.616468</td>\n",
       "      <td>-58.528111</td>\n",
       "      <td>590000</td>\n",
       "      <td>1425.120773</td>\n",
       "      <td>1497.020434</td>\n",
       "      <td>13514.662463</td>\n",
       "      <td>33</td>\n",
       "      <td>115341.039</td>\n",
       "      <td>5</td>\n",
       "      <td>0</td>\n",
       "    </tr>\n",
       "    <tr>\n",
       "      <th>3</th>\n",
       "      <td>35</td>\n",
       "      <td>414</td>\n",
       "      <td>414</td>\n",
       "      <td>0</td>\n",
       "      <td>2</td>\n",
       "      <td>VILLA REAL</td>\n",
       "      <td>10</td>\n",
       "      <td>-34.616344</td>\n",
       "      <td>-58.527918</td>\n",
       "      <td>730000</td>\n",
       "      <td>1763.000000</td>\n",
       "      <td>1506.066814</td>\n",
       "      <td>13495.631683</td>\n",
       "      <td>33</td>\n",
       "      <td>115500.289</td>\n",
       "      <td>5</td>\n",
       "      <td>0</td>\n",
       "    </tr>\n",
       "    <tr>\n",
       "      <th>4</th>\n",
       "      <td>35</td>\n",
       "      <td>285</td>\n",
       "      <td>285</td>\n",
       "      <td>0</td>\n",
       "      <td>1</td>\n",
       "      <td>VILLA REAL</td>\n",
       "      <td>10</td>\n",
       "      <td>-34.616344</td>\n",
       "      <td>-58.527918</td>\n",
       "      <td>550000</td>\n",
       "      <td>1929.000000</td>\n",
       "      <td>1506.066814</td>\n",
       "      <td>13495.631683</td>\n",
       "      <td>33</td>\n",
       "      <td>115500.289</td>\n",
       "      <td>5</td>\n",
       "      <td>0</td>\n",
       "    </tr>\n",
       "  </tbody>\n",
       "</table>\n",
       "</div>"
      ],
      "text/plain": [
       "   antig  m2total  m2cub  ambientes  banios        barrio  comuna    latitud  \\\n",
       "0      0      200    200          0       0       LINIERS       9 -34.639300   \n",
       "1     30       50     50          0       1  VILLA DEVOTO      11 -34.611807   \n",
       "2     30      414    414          0       2    VILLA REAL      10 -34.616468   \n",
       "3     35      414    414          0       2    VILLA REAL      10 -34.616344   \n",
       "4     35      285    285          0       1    VILLA REAL      10 -34.616344   \n",
       "\n",
       "    longitud  precioUSD  m2precioUSD  comisaria_dista  obelisco_dista  nrobos  \\\n",
       "0 -58.528647    1500000  7500.000000      1162.621600    14053.797191     134   \n",
       "1 -58.528138     125000  2500.000000      1887.227055    13473.139375      23   \n",
       "2 -58.528111     590000  1425.120773      1497.020434    13514.662463      33   \n",
       "3 -58.527918     730000  1763.000000      1506.066814    13495.631683      33   \n",
       "4 -58.527918     550000  1929.000000      1506.066814    13495.631683      33   \n",
       "\n",
       "   sup_espacio_verde  count_gastronomia  count_culturales  \n",
       "0          68426.445                 12                 0  \n",
       "1         110997.543                  3                 0  \n",
       "2         115341.039                  5                 0  \n",
       "3         115500.289                  5                 0  \n",
       "4         115500.289                  5                 0  "
      ]
     },
     "execution_count": 4,
     "metadata": {},
     "output_type": "execute_result"
    }
   ],
   "source": [
    "df_ml = df.copy().drop(['id', 'direccion'], axis=1)\n",
    "df_ml.head()"
   ]
  },
  {
   "cell_type": "code",
   "execution_count": 5,
   "id": "a35b5a97",
   "metadata": {},
   "outputs": [
    {
     "data": {
      "text/plain": [
       "array(['LINIERS', 'VILLA DEVOTO', 'VILLA REAL', 'VERSALLES', 'MATADEROS',\n",
       "       'MONTE CASTRO', 'VILLA LURO', 'VILLA PUEYRREDON', 'VILLA URQUIZA',\n",
       "       'AGRONOMIA', 'VELEZ SARSFIELD', 'VILLA DEL PARQUE', 'VILLA LUGANO',\n",
       "       'SAAVEDRA', 'FLORESTA', 'VILLA SANTA RITA', 'PARQUE AVELLANEDA',\n",
       "       'PARQUE CHAS', 'VILLA RIACHUELO', 'COGHLAN', 'PATERNAL',\n",
       "       'VILLA ORTUZAR', 'VILLA GRAL. MITRE', 'FLORES', 'NU�EZ',\n",
       "       'BELGRANO', 'CHACARITA', 'CABALLITO', 'COLEGIALES', 'VILLA CRESPO',\n",
       "       'PARQUE CHACABUCO', 'PALERMO', 'VILLA SOLDATI', 'ALMAGRO',\n",
       "       'NUEVA POMPEYA', 'BOEDO', 'RECOLETA', 'BALVANERA', 'SAN CRISTOBAL',\n",
       "       'PARQUE PATRICIOS', 'SAN NICOLAS', 'MONTSERRAT', 'CONSTITUCION',\n",
       "       'RETIRO', 'BARRACAS', 'SAN TELMO', 'BOCA', 'PUERTO MADERO'],\n",
       "      dtype=object)"
      ]
     },
     "execution_count": 5,
     "metadata": {},
     "output_type": "execute_result"
    }
   ],
   "source": [
    "df_ml['barrio'].unique()"
   ]
  },
  {
   "cell_type": "code",
   "execution_count": 6,
   "id": "6e5d9576",
   "metadata": {},
   "outputs": [],
   "source": [
    "indexes = df.barrio == \"NU�EZ\"\n",
    "df_ml.loc[indexes, ['barrio']] = 'NUNEZ'"
   ]
  },
  {
   "cell_type": "code",
   "execution_count": 7,
   "id": "67828878",
   "metadata": {},
   "outputs": [],
   "source": [
    "# Unncomment to do EDA \n",
    "# profile = ProfileReport(df_ml, title=\"Precios Locales CABA\", html={'style': {'full_width': True}})"
   ]
  },
  {
   "cell_type": "code",
   "execution_count": 8,
   "id": "b3985716",
   "metadata": {},
   "outputs": [],
   "source": [
    "# profile"
   ]
  },
  {
   "cell_type": "code",
   "execution_count": 9,
   "id": "e29ce6e5",
   "metadata": {},
   "outputs": [],
   "source": [
    "onehot_encoder = OneHotEncoder(sparse= False)\n",
    "barrio_dummies_df = pd.DataFrame(\n",
    "    onehot_encoder.fit_transform(df_ml['barrio'].to_numpy().reshape(-1, 1)), \n",
    "    columns=['AGRONOMIA', 'ALMAGRO', 'BALVANERA', 'BARRACAS', 'BELGRANO', 'BOCA', 'BOEDO', 'CABALLITO', 'CHACARITA', 'COGHLAN', 'COLEGIALES', 'CONSTITUCION', 'FLORES', 'FLORESTA', 'LINIERS', 'MATADEROS', 'MONTE CASTRO', 'MONTSERRAT', 'NUEVA POMPEYA', 'NUNEZ', 'PALERMO', 'PARQUE AVELLANEDA', 'PARQUE CHACABUCO', 'PARQUE CHAS', 'PARQUE PATRICIOS', 'PATERNAL', 'PUERTO MADERO', 'RECOLETA', 'RETIRO', 'SAAVEDRA', 'SAN CRISTOBAL', 'SAN NICOLAS', 'SAN TELMO', 'VELEZ SARSFIELD', 'VERSALLES', 'VILLA CRESPO', 'VILLA DEL PARQUE', 'VILLA DEVOTO', 'VILLA GRAL. MITRE', 'VILLA LUGANO', 'VILLA LURO', 'VILLA ORTUZAR', 'VILLA PUEYRREDON', 'VILLA REAL', 'VILLA RIACHUELO', 'VILLA SANTA RITA', 'VILLA SOLDATI', 'VILLA URQUIZA']\n",
    ")"
   ]
  },
  {
   "cell_type": "code",
   "execution_count": 10,
   "id": "ddb5da2d",
   "metadata": {},
   "outputs": [],
   "source": [
    "df_ml = pd.concat([barrio_dummies_df, df_ml], axis=1).drop(['barrio'], axis=1)"
   ]
  },
  {
   "cell_type": "code",
   "execution_count": 11,
   "id": "5b026e55",
   "metadata": {},
   "outputs": [],
   "source": [
    "onehot_encoder = OneHotEncoder(sparse= False)\n",
    "comuna_dummies_df = pd.DataFrame(\n",
    "    onehot_encoder.fit_transform(df_ml['comuna'].to_numpy().reshape(-1, 1)), \n",
    "    columns=[\"COMUNA_{}\".format(i) for i in range(0, 15)]\n",
    ")\n",
    "df_ml = pd.concat([comuna_dummies_df, df_ml], axis=1).drop(['comuna'], axis=1)"
   ]
  },
  {
   "cell_type": "code",
   "execution_count": 12,
   "id": "cf77bd8c",
   "metadata": {
    "scrolled": true
   },
   "outputs": [],
   "source": [
    "## Librerías generales\n",
    "import numpy as np\n",
    "import pandas as pd\n",
    "from pandas.api.types import is_numeric_dtype\n",
    "\n",
    "## Filtramos advertencias relacionadas con la convergencia de los algoritmos\n",
    "import warnings\n",
    "from sklearn.exceptions import ConvergenceWarning\n",
    "warnings.filterwarnings('ignore', category=ConvergenceWarning)\n",
    "\n",
    "## Clases y funciones útiles de scikit-learn\n",
    "from sklearn.preprocessing import LabelEncoder\n",
    "from sklearn.preprocessing import StandardScaler\n",
    "from sklearn.model_selection import train_test_split\n",
    "from sklearn.metrics import mean_squared_error, median_absolute_error\n",
    "\n",
    "## Modelo neuronal:\n",
    "## Multi-Layer Perceptron\n",
    "from sklearn.neural_network import MLPRegressor\n",
    "\n",
    "## Otros modelos para comparar con el modelo neuronal\n",
    "from sklearn.ensemble import RandomForestRegressor\n",
    "\n",
    "## Barras de progreso en los iteradores\n",
    "from tqdm.notebook import tqdm\n",
    "\n",
    "## Herramientas para graficar\n",
    "import matplotlib.pyplot as plt\n",
    "import seaborn as sns\n",
    "sns.set()\n",
    "sns.set_context('talk')\n",
    "\n",
    "# https://hackernoon.com/build-your-first-neural-network-to-predict-house-prices-with-keras-3fb0839680f4\n",
    "\n",
    "# Falta scalar los datos, split, la red, entrenar, y hacer graficos.\n",
    "\n",
    "# file:///Users/charlyjazz/Downloads/9300-949-7537-1-10-20200120.pdf\n",
    "\n",
    "# https://www.kaggle.com/georgesaavedra/house-sales-prediction-competition\n",
    "\n",
    "# https://towardsai.net/p/deep-learning/house-price-predictions-using-keras\n",
    "\n",
    "# https://machinelearningmastery.com/grid-search-hyperparameters-deep-learning-models-python-keras/\n",
    "\n",
    "test_size = 0.20\n",
    "TARGET_COL = 'precioUSD'\n",
    "X = df_ml.drop(columns=[TARGET_COL])\n",
    "y = df_ml[TARGET_COL]\n",
    "X_train, X_test, y_train, y_test = train_test_split(X, y, test_size=test_size, random_state=22)"
   ]
  },
  {
   "cell_type": "markdown",
   "id": "cba1a811",
   "metadata": {},
   "source": [
    "### MLPRegressor"
   ]
  },
  {
   "cell_type": "code",
   "execution_count": 13,
   "id": "64156365",
   "metadata": {},
   "outputs": [],
   "source": [
    "model = MLPRegressor(random_state=1, max_iter=500).fit(X_train, y_train)"
   ]
  },
  {
   "cell_type": "code",
   "execution_count": 14,
   "id": "2a0c7e36",
   "metadata": {},
   "outputs": [
    {
     "data": {
      "text/plain": [
       "0.6587493628918698"
      ]
     },
     "execution_count": 14,
     "metadata": {},
     "output_type": "execute_result"
    }
   ],
   "source": [
    "model.score(X_test, y_test)"
   ]
  },
  {
   "cell_type": "code",
   "execution_count": 15,
   "id": "d077ab4f",
   "metadata": {},
   "outputs": [
    {
     "name": "stdout",
     "output_type": "stream",
     "text": [
      "Train RMSE = 130484044605\n",
      "Test  RMSE = 85583100361\n"
     ]
    }
   ],
   "source": [
    "# Sin Escalar\n",
    "\n",
    "pred_train = model.predict(X_train)\n",
    "pred_test  = model.predict(X_test)\n",
    "\n",
    "print('Train RMSE = {:.0f}'.format(mean_squared_error(pred_train, y_train)))\n",
    "print('Test  RMSE = {:.0f}'.format(mean_squared_error(pred_test, y_test)))"
   ]
  },
  {
   "cell_type": "code",
   "execution_count": 16,
   "id": "4ccc6615",
   "metadata": {},
   "outputs": [
    {
     "name": "stdout",
     "output_type": "stream",
     "text": [
      "Train RMSE: 9627182356.761433\n",
      "Test RMSE: 24094647347.68262\n"
     ]
    }
   ],
   "source": [
    "# Escalando\n",
    "\n",
    "scaler_X = StandardScaler()\n",
    "scaler_y = StandardScaler()\n",
    "\n",
    "scaler_X.fit(X_train)\n",
    "X_scaled_train = scaler_X.transform(X_train)\n",
    "X_scaled_test  = scaler_X.transform(X_test)\n",
    "\n",
    "scaler_y.fit(y_train.values.reshape(-1, 1))\n",
    "y_scaled_train = scaler_y.transform(y_train.values.reshape(-1, 1))[:,0]\n",
    "y_scaled_test  = scaler_y.transform(y_test.values.reshape(-1, 1))[:,0]\n",
    "\n",
    "model = MLPRegressor(random_state=1, max_iter=500)\n",
    "model.fit(X_scaled_train, y_scaled_train)\n",
    "\n",
    "pred_scaled_train = model.predict(X_scaled_train)\n",
    "pred_scaled_test  = model.predict(X_scaled_test)\n",
    "\n",
    "pred_train = scaler_y.inverse_transform(pred_scaled_train)\n",
    "pred_test  = scaler_y.inverse_transform(pred_scaled_test)\n",
    "\n",
    "print('Train RMSE:', mean_squared_error(pred_train, y_train))\n",
    "print('Test RMSE:', mean_squared_error(pred_test, y_test))"
   ]
  },
  {
   "cell_type": "code",
   "execution_count": 17,
   "id": "7980a257",
   "metadata": {},
   "outputs": [
    {
     "name": "stdout",
     "output_type": "stream",
     "text": [
      "Predijo: [559859.93086637]\n",
      "Y Real: 600000\n"
     ]
    }
   ],
   "source": [
    "x_to_predict = X_test.iloc[50]\n",
    "\n",
    "y_to_predict = y_test.iloc[50]\n",
    "\n",
    "x_to_predict_scaled = scaler_X.transform([x_to_predict])\n",
    "\n",
    "y_predicted_scaled = model.predict(x_to_predict_scaled)\n",
    "\n",
    "y_predicted = scaler_y.inverse_transform(y_predicted_scaled)\n",
    "\n",
    "print(\"Predijo: {}\".format(y_predicted))\n",
    "print(\"Y Real: {}\".format(y_to_predict))"
   ]
  },
  {
   "cell_type": "markdown",
   "id": "b110ca57",
   "metadata": {},
   "source": [
    "#### Hacer variaciones"
   ]
  },
  {
   "cell_type": "code",
   "execution_count": 18,
   "id": "64c0763a",
   "metadata": {},
   "outputs": [
    {
     "data": {
      "application/vnd.jupyter.widget-view+json": {
       "model_id": "3ac4120e81ac4672b8e2bb500713b7b8",
       "version_major": 2,
       "version_minor": 0
      },
      "text/plain": [
       "  0%|          | 0/5 [00:00<?, ?it/s]"
      ]
     },
     "metadata": {},
     "output_type": "display_data"
    },
    {
     "data": {
      "application/vnd.jupyter.widget-view+json": {
       "model_id": "",
       "version_major": 2,
       "version_minor": 0
      },
      "text/plain": [
       "  0%|          | 0/100 [00:00<?, ?it/s]"
      ]
     },
     "metadata": {},
     "output_type": "display_data"
    },
    {
     "data": {
      "application/vnd.jupyter.widget-view+json": {
       "model_id": "",
       "version_major": 2,
       "version_minor": 0
      },
      "text/plain": [
       "  0%|          | 0/100 [00:00<?, ?it/s]"
      ]
     },
     "metadata": {},
     "output_type": "display_data"
    },
    {
     "data": {
      "application/vnd.jupyter.widget-view+json": {
       "model_id": "",
       "version_major": 2,
       "version_minor": 0
      },
      "text/plain": [
       "  0%|          | 0/100 [00:00<?, ?it/s]"
      ]
     },
     "metadata": {},
     "output_type": "display_data"
    },
    {
     "data": {
      "application/vnd.jupyter.widget-view+json": {
       "model_id": "",
       "version_major": 2,
       "version_minor": 0
      },
      "text/plain": [
       "  0%|          | 0/100 [00:00<?, ?it/s]"
      ]
     },
     "metadata": {},
     "output_type": "display_data"
    },
    {
     "data": {
      "application/vnd.jupyter.widget-view+json": {
       "model_id": "",
       "version_major": 2,
       "version_minor": 0
      },
      "text/plain": [
       "  0%|          | 0/100 [00:00<?, ?it/s]"
      ]
     },
     "metadata": {},
     "output_type": "display_data"
    }
   ],
   "source": [
    "n_epochs = 100\n",
    "epochs = range(1, n_epochs+1)\n",
    "\n",
    "learning_rate_init_values = [\n",
    "    0.00001, 0.0001, 0.001, 0.0008, 0.002\n",
    "]\n",
    "\n",
    "metrics = {}\n",
    "\n",
    "for learning_rate_init in tqdm(learning_rate_init_values):\n",
    "    hyperparams = dict(\n",
    "        solver='adam',\n",
    "        alpha=0.001,\n",
    "        hidden_layer_sizes=(100, ),\n",
    "        activation='relu',\n",
    "        learning_rate_init=learning_rate_init\n",
    "    )\n",
    "    model = MLPRegressor(\n",
    "        random_state=1, \n",
    "        max_iter=1, \n",
    "        warm_start=True,\n",
    "        **hyperparams\n",
    "    )\n",
    "\n",
    "    train_rmse_values = []\n",
    "    test_rmse_values = []\n",
    "\n",
    "    for epoch in tqdm(epochs, leave=False):\n",
    "        ## Fiteo del model\n",
    "        model.fit(X_scaled_train, y_scaled_train)\n",
    "\n",
    "        ## Predicciones sobre conjunto de entrenamiento y validacion\n",
    "        pred_train = scaler_y.inverse_transform(model.predict(X_scaled_train))\n",
    "        pred_test  = scaler_y.inverse_transform(model.predict(X_scaled_test))\n",
    "\n",
    "        ## Cálculo de métricas\n",
    "        train_rmse_values.append(mean_squared_error(pred_train, y_train))\n",
    "        test_rmse_values.append(mean_squared_error(pred_test, y_test))\n",
    "        \n",
    "    metrics[learning_rate_init] = pd.DataFrame({\n",
    "        'train_rmse': train_rmse_values,\n",
    "        'test_rmse': test_rmse_values\n",
    "    })\n",
    "    \n"
   ]
  },
  {
   "cell_type": "code",
   "execution_count": 19,
   "id": "cd3c9e20",
   "metadata": {},
   "outputs": [
    {
     "data": {
      "image/png": "[encoded data removed]",
      "text/plain": [
       "<Figure size 1152x432 with 2 Axes>"
      ]
     },
     "metadata": {},
     "output_type": "display_data"
    }
   ],
   "source": [
    "display_metrics_test_train_rmse(metrics, [1e11 / 5, 1e11], [1e11 / 5, 1e11])"
   ]
  },
  {
   "cell_type": "markdown",
   "id": "f25b1a15",
   "metadata": {},
   "source": [
    "# Keras Linear Regression"
   ]
  },
  {
   "cell_type": "code",
   "execution_count": 20,
   "id": "507f4cae",
   "metadata": {},
   "outputs": [],
   "source": [
    "import tensorflow as tf\n",
    "from tensorflow import keras\n",
    "from tensorflow.keras import layers"
   ]
  },
  {
   "cell_type": "code",
   "execution_count": 21,
   "id": "2028fa7a",
   "metadata": {},
   "outputs": [
    {
     "name": "stderr",
     "output_type": "stream",
     "text": [
      "2021-11-26 00:11:09.211475: I tensorflow/core/platform/cpu_feature_guard.cc:142] This TensorFlow binary is optimized with oneAPI Deep Neural Network Library (oneDNN) to use the following CPU instructions in performance-critical operations:  SSE4.1 SSE4.2 AVX AVX2 AVX512F FMA\n",
      "To enable them in other operations, rebuild TensorFlow with the appropriate compiler flags.\n"
     ]
    }
   ],
   "source": [
    "model = keras.Sequential(\n",
    "    [\n",
    "        keras.Input(shape=(77,)),\n",
    "        layers.Dense(77, activation=\"relu\"),\n",
    "        layers.Dense(77, activation=\"relu\"),\n",
    "        layers.Dense(1),\n",
    "    ]\n",
    ")\n",
    "\n",
    "model.compile(loss=tf.losses.MeanSquaredError(), optimizer=tf.keras.optimizers.Adam(learning_rate=0.001))"
   ]
  },
  {
   "cell_type": "code",
   "execution_count": 22,
   "id": "3b21fc03",
   "metadata": {},
   "outputs": [
    {
     "name": "stdout",
     "output_type": "stream",
     "text": [
      "Model: \"sequential\"\n",
      "_________________________________________________________________\n",
      "Layer (type)                 Output Shape              Param #   \n",
      "=================================================================\n",
      "dense (Dense)                (None, 77)                6006      \n",
      "_________________________________________________________________\n",
      "dense_1 (Dense)              (None, 77)                6006      \n",
      "_________________________________________________________________\n",
      "dense_2 (Dense)              (None, 1)                 78        \n",
      "=================================================================\n",
      "Total params: 12,090\n",
      "Trainable params: 12,090\n",
      "Non-trainable params: 0\n",
      "_________________________________________________________________\n"
     ]
    }
   ],
   "source": [
    "model.summary()"
   ]
  },
  {
   "cell_type": "code",
   "execution_count": 23,
   "id": "b9e31986",
   "metadata": {},
   "outputs": [
    {
     "name": "stderr",
     "output_type": "stream",
     "text": [
      "2021-11-26 00:11:09.309626: I tensorflow/compiler/mlir/mlir_graph_optimization_pass.cc:116] None of the MLIR optimization passes are enabled (registered 2)\n"
     ]
    },
    {
     "name": "stdout",
     "output_type": "stream",
     "text": [
      "Epoch 1/10\n",
      "47/47 [==============================] - 0s 798us/step - loss: 0.9306\n",
      "Epoch 2/10\n",
      "47/47 [==============================] - 0s 840us/step - loss: 0.4550\n",
      "Epoch 3/10\n",
      "47/47 [==============================] - 0s 863us/step - loss: 0.2928\n",
      "Epoch 4/10\n",
      "47/47 [==============================] - 0s 812us/step - loss: 0.1744\n",
      "Epoch 5/10\n",
      "47/47 [==============================] - 0s 836us/step - loss: 0.2024\n",
      "Epoch 6/10\n",
      "47/47 [==============================] - 0s 815us/step - loss: 0.2261\n",
      "Epoch 7/10\n",
      "47/47 [==============================] - 0s 866us/step - loss: 0.2958\n",
      "Epoch 8/10\n",
      "47/47 [==============================] - 0s 810us/step - loss: 0.1527\n",
      "Epoch 9/10\n",
      "47/47 [==============================] - 0s 788us/step - loss: 0.1644\n",
      "Epoch 10/10\n",
      "47/47 [==============================] - 0s 767us/step - loss: 0.3226\n"
     ]
    }
   ],
   "source": [
    "history = model.fit(\n",
    "    X_scaled_train,\n",
    "    y_scaled_train,\n",
    "    batch_size=64,\n",
    "    epochs=10\n",
    ")"
   ]
  },
  {
   "cell_type": "code",
   "execution_count": 24,
   "id": "edc39127",
   "metadata": {},
   "outputs": [
    {
     "name": "stdout",
     "output_type": "stream",
     "text": [
      "12/12 [==============================] - 0s 858us/step - loss: 0.0980\n"
     ]
    }
   ],
   "source": [
    "results = model.evaluate(X_scaled_test, y_scaled_test, batch_size=64)"
   ]
  },
  {
   "cell_type": "code",
   "execution_count": 25,
   "id": "d1200da2",
   "metadata": {},
   "outputs": [
    {
     "name": "stdout",
     "output_type": "stream",
     "text": [
      "Predijo: [[631934.6]]\n",
      "Y Real: 600000\n"
     ]
    }
   ],
   "source": [
    "x_to_predict = X_test.iloc[50]\n",
    "\n",
    "y_to_predict = y_test.iloc[50]\n",
    "\n",
    "x_to_predict_scaled = scaler_X.transform([x_to_predict])\n",
    "\n",
    "y_predicted_scaled = model.predict(x_to_predict_scaled)\n",
    "\n",
    "y_predicted = scaler_y.inverse_transform(y_predicted_scaled)\n",
    "\n",
    "print(\"Predijo: {}\".format(y_predicted))\n",
    "print(\"Y Real: {}\".format(y_to_predict))"
   ]
  },
  {
   "cell_type": "markdown",
   "id": "7cacd116",
   "metadata": {},
   "source": [
    "## Model Tunnning, Parameters Search"
   ]
  },
  {
   "cell_type": "code",
   "execution_count": 26,
   "id": "febb401e",
   "metadata": {},
   "outputs": [],
   "source": [
    "def build_model(hp):\n",
    "    model = keras.Sequential()\n",
    "    for i in range(hp.Int('layers', 2, 10)):\n",
    "        model.add(\n",
    "            layers.Dense(\n",
    "                units=hp.Int(\n",
    "                    'units_' + str(i),\n",
    "                    min_value=32,\n",
    "                    max_value=77 * 2,\n",
    "                    step=32\n",
    "                ),\n",
    "                activation='relu'\n",
    "            )\n",
    "        )\n",
    "    model.add(layers.Dense(1))\n",
    "    model.compile(\n",
    "        optimizer=tf.keras.optimizers.Adam(\n",
    "            hp.Choice('learning_rate', [0.00001, 0.0001, 0.001, 0.0008, 0.002])),\n",
    "        loss='mse',\n",
    "        metrics=['mse', 'accuracy'])\n",
    "    return model"
   ]
  },
  {
   "cell_type": "code",
   "execution_count": 27,
   "id": "f119e36e",
   "metadata": {},
   "outputs": [],
   "source": [
    "import kerastuner as kt"
   ]
  },
  {
   "cell_type": "code",
   "execution_count": 28,
   "id": "2845d64c",
   "metadata": {},
   "outputs": [
    {
     "name": "stdout",
     "output_type": "stream",
     "text": [
      "INFO:tensorflow:Reloading Oracle from existing project ./untitled_project/oracle.json\n"
     ]
    },
    {
     "name": "stderr",
     "output_type": "stream",
     "text": [
      "Traceback (most recent call last):\n",
      "  File \"/Users/charlyjazz/opt/anaconda3/lib/python3.8/site-packages/kerastuner/engine/hypermodel.py\", line 105, in build\n",
      "    model = self.hypermodel.build(hp)\n",
      "  File \"/var/folders/vr/p4v2w30n4n116cx00_ybhvqm0000gn/T/ipykernel_72758/1622437705.py\", line 2, in build_model\n",
      "    model = Sequential()\n",
      "NameError: name 'Sequential' is not defined\n"
     ]
    },
    {
     "data": {
      "text/html": [
       "<span style=\"color:yellow\">[Warning] Invalid model 0/5</span>"
      ],
      "text/plain": [
       "<IPython.core.display.HTML object>"
      ]
     },
     "metadata": {},
     "output_type": "display_data"
    },
    {
     "name": "stderr",
     "output_type": "stream",
     "text": [
      "Traceback (most recent call last):\n",
      "  File \"/Users/charlyjazz/opt/anaconda3/lib/python3.8/site-packages/kerastuner/engine/hypermodel.py\", line 105, in build\n",
      "    model = self.hypermodel.build(hp)\n",
      "  File \"/var/folders/vr/p4v2w30n4n116cx00_ybhvqm0000gn/T/ipykernel_72758/1622437705.py\", line 2, in build_model\n",
      "    model = Sequential()\n",
      "NameError: name 'Sequential' is not defined\n"
     ]
    },
    {
     "data": {
      "text/html": [
       "<span style=\"color:yellow\">[Warning] Invalid model 1/5</span>"
      ],
      "text/plain": [
       "<IPython.core.display.HTML object>"
      ]
     },
     "metadata": {},
     "output_type": "display_data"
    },
    {
     "name": "stderr",
     "output_type": "stream",
     "text": [
      "Traceback (most recent call last):\n",
      "  File \"/Users/charlyjazz/opt/anaconda3/lib/python3.8/site-packages/kerastuner/engine/hypermodel.py\", line 105, in build\n",
      "    model = self.hypermodel.build(hp)\n",
      "  File \"/var/folders/vr/p4v2w30n4n116cx00_ybhvqm0000gn/T/ipykernel_72758/1622437705.py\", line 2, in build_model\n",
      "    model = Sequential()\n",
      "NameError: name 'Sequential' is not defined\n"
     ]
    },
    {
     "data": {
      "text/html": [
       "<span style=\"color:yellow\">[Warning] Invalid model 2/5</span>"
      ],
      "text/plain": [
       "<IPython.core.display.HTML object>"
      ]
     },
     "metadata": {},
     "output_type": "display_data"
    },
    {
     "name": "stderr",
     "output_type": "stream",
     "text": [
      "Traceback (most recent call last):\n",
      "  File \"/Users/charlyjazz/opt/anaconda3/lib/python3.8/site-packages/kerastuner/engine/hypermodel.py\", line 105, in build\n",
      "    model = self.hypermodel.build(hp)\n",
      "  File \"/var/folders/vr/p4v2w30n4n116cx00_ybhvqm0000gn/T/ipykernel_72758/1622437705.py\", line 2, in build_model\n",
      "    model = Sequential()\n",
      "NameError: name 'Sequential' is not defined\n"
     ]
    },
    {
     "data": {
      "text/html": [
       "<span style=\"color:yellow\">[Warning] Invalid model 3/5</span>"
      ],
      "text/plain": [
       "<IPython.core.display.HTML object>"
      ]
     },
     "metadata": {},
     "output_type": "display_data"
    },
    {
     "name": "stderr",
     "output_type": "stream",
     "text": [
      "Traceback (most recent call last):\n",
      "  File \"/Users/charlyjazz/opt/anaconda3/lib/python3.8/site-packages/kerastuner/engine/hypermodel.py\", line 105, in build\n",
      "    model = self.hypermodel.build(hp)\n",
      "  File \"/var/folders/vr/p4v2w30n4n116cx00_ybhvqm0000gn/T/ipykernel_72758/1622437705.py\", line 2, in build_model\n",
      "    model = Sequential()\n",
      "NameError: name 'Sequential' is not defined\n"
     ]
    },
    {
     "data": {
      "text/html": [
       "<span style=\"color:yellow\">[Warning] Invalid model 4/5</span>"
      ],
      "text/plain": [
       "<IPython.core.display.HTML object>"
      ]
     },
     "metadata": {},
     "output_type": "display_data"
    },
    {
     "name": "stderr",
     "output_type": "stream",
     "text": [
      "Traceback (most recent call last):\n",
      "  File \"/Users/charlyjazz/opt/anaconda3/lib/python3.8/site-packages/kerastuner/engine/hypermodel.py\", line 105, in build\n",
      "    model = self.hypermodel.build(hp)\n",
      "  File \"/var/folders/vr/p4v2w30n4n116cx00_ybhvqm0000gn/T/ipykernel_72758/1622437705.py\", line 2, in build_model\n",
      "    model = Sequential()\n",
      "NameError: name 'Sequential' is not defined\n"
     ]
    },
    {
     "data": {
      "text/html": [
       "<span style=\"color:yellow\">[Warning] Invalid model 5/5</span>"
      ],
      "text/plain": [
       "<IPython.core.display.HTML object>"
      ]
     },
     "metadata": {},
     "output_type": "display_data"
    },
    {
     "ename": "RuntimeError",
     "evalue": "Too many failed attempts to build model.",
     "output_type": "error",
     "traceback": [
      "\u001b[0;31m---------------------------------------------------------------------------\u001b[0m",
      "\u001b[0;31mNameError\u001b[0m                                 Traceback (most recent call last)",
      "\u001b[0;32m~/opt/anaconda3/lib/python3.8/site-packages/kerastuner/engine/hypermodel.py\u001b[0m in \u001b[0;36mbuild\u001b[0;34m(self, hp)\u001b[0m\n\u001b[1;32m    104\u001b[0m                 \u001b[0;32mwith\u001b[0m \u001b[0mmaybe_distribute\u001b[0m\u001b[0;34m(\u001b[0m\u001b[0mself\u001b[0m\u001b[0;34m.\u001b[0m\u001b[0mdistribution_strategy\u001b[0m\u001b[0;34m)\u001b[0m\u001b[0;34m:\u001b[0m\u001b[0;34m\u001b[0m\u001b[0;34m\u001b[0m\u001b[0m\n\u001b[0;32m--> 105\u001b[0;31m                     \u001b[0mmodel\u001b[0m \u001b[0;34m=\u001b[0m \u001b[0mself\u001b[0m\u001b[0;34m.\u001b[0m\u001b[0mhypermodel\u001b[0m\u001b[0;34m.\u001b[0m\u001b[0mbuild\u001b[0m\u001b[0;34m(\u001b[0m\u001b[0mhp\u001b[0m\u001b[0;34m)\u001b[0m\u001b[0;34m\u001b[0m\u001b[0;34m\u001b[0m\u001b[0m\n\u001b[0m\u001b[1;32m    106\u001b[0m             \u001b[0;32mexcept\u001b[0m\u001b[0;34m:\u001b[0m\u001b[0;34m\u001b[0m\u001b[0;34m\u001b[0m\u001b[0m\n",
      "\u001b[0;32m/var/folders/vr/p4v2w30n4n116cx00_ybhvqm0000gn/T/ipykernel_72758/1622437705.py\u001b[0m in \u001b[0;36mbuild_model\u001b[0;34m(hp)\u001b[0m\n\u001b[1;32m      1\u001b[0m \u001b[0;32mdef\u001b[0m \u001b[0mbuild_model\u001b[0m\u001b[0;34m(\u001b[0m\u001b[0mhp\u001b[0m\u001b[0;34m)\u001b[0m\u001b[0;34m:\u001b[0m\u001b[0;34m\u001b[0m\u001b[0;34m\u001b[0m\u001b[0m\n\u001b[0;32m----> 2\u001b[0;31m     \u001b[0mmodel\u001b[0m \u001b[0;34m=\u001b[0m \u001b[0mSequential\u001b[0m\u001b[0;34m(\u001b[0m\u001b[0;34m)\u001b[0m\u001b[0;34m\u001b[0m\u001b[0;34m\u001b[0m\u001b[0m\n\u001b[0m\u001b[1;32m      3\u001b[0m     \u001b[0;32mfor\u001b[0m \u001b[0mi\u001b[0m \u001b[0;32min\u001b[0m \u001b[0mrange\u001b[0m\u001b[0;34m(\u001b[0m\u001b[0mhp\u001b[0m\u001b[0;34m.\u001b[0m\u001b[0mInt\u001b[0m\u001b[0;34m(\u001b[0m\u001b[0;34m'layers'\u001b[0m\u001b[0;34m,\u001b[0m \u001b[0;36m2\u001b[0m\u001b[0;34m,\u001b[0m \u001b[0;36m10\u001b[0m\u001b[0;34m)\u001b[0m\u001b[0;34m)\u001b[0m\u001b[0;34m:\u001b[0m\u001b[0;34m\u001b[0m\u001b[0;34m\u001b[0m\u001b[0m\n",
      "\u001b[0;31mNameError\u001b[0m: name 'Sequential' is not defined",
      "\nDuring handling of the above exception, another exception occurred:\n",
      "\u001b[0;31mRuntimeError\u001b[0m                              Traceback (most recent call last)",
      "\u001b[0;32m/var/folders/vr/p4v2w30n4n116cx00_ybhvqm0000gn/T/ipykernel_72758/2487140720.py\u001b[0m in \u001b[0;36m<module>\u001b[0;34m\u001b[0m\n\u001b[0;32m----> 1\u001b[0;31m tuner = kt.Hyperband(\n\u001b[0m\u001b[1;32m      2\u001b[0m     \u001b[0mbuild_model\u001b[0m\u001b[0;34m,\u001b[0m\u001b[0;34m\u001b[0m\u001b[0;34m\u001b[0m\u001b[0m\n\u001b[1;32m      3\u001b[0m     \u001b[0mobjective\u001b[0m\u001b[0;34m=\u001b[0m\u001b[0;34m'val_loss'\u001b[0m\u001b[0;34m,\u001b[0m\u001b[0;34m\u001b[0m\u001b[0;34m\u001b[0m\u001b[0m\n\u001b[1;32m      4\u001b[0m     \u001b[0mmax_epochs\u001b[0m\u001b[0;34m=\u001b[0m\u001b[0;36m30\u001b[0m\u001b[0;34m,\u001b[0m\u001b[0;34m\u001b[0m\u001b[0;34m\u001b[0m\u001b[0m\n\u001b[1;32m      5\u001b[0m     hyperband_iterations=2)\n",
      "\u001b[0;32m~/opt/anaconda3/lib/python3.8/site-packages/kerastuner/tuners/hyperband.py\u001b[0m in \u001b[0;36m__init__\u001b[0;34m(self, hypermodel, objective, max_epochs, factor, hyperband_iterations, seed, hyperparameters, tune_new_entries, allow_new_entries, **kwargs)\u001b[0m\n\u001b[1;32m    375\u001b[0m             \u001b[0mtune_new_entries\u001b[0m\u001b[0;34m=\u001b[0m\u001b[0mtune_new_entries\u001b[0m\u001b[0;34m,\u001b[0m\u001b[0;34m\u001b[0m\u001b[0;34m\u001b[0m\u001b[0m\n\u001b[1;32m    376\u001b[0m             allow_new_entries=allow_new_entries)\n\u001b[0;32m--> 377\u001b[0;31m         super(Hyperband, self).__init__(\n\u001b[0m\u001b[1;32m    378\u001b[0m             \u001b[0moracle\u001b[0m\u001b[0;34m=\u001b[0m\u001b[0moracle\u001b[0m\u001b[0;34m,\u001b[0m\u001b[0;34m\u001b[0m\u001b[0;34m\u001b[0m\u001b[0m\n\u001b[1;32m    379\u001b[0m             \u001b[0mhypermodel\u001b[0m\u001b[0;34m=\u001b[0m\u001b[0mhypermodel\u001b[0m\u001b[0;34m,\u001b[0m\u001b[0;34m\u001b[0m\u001b[0;34m\u001b[0m\u001b[0m\n",
      "\u001b[0;32m~/opt/anaconda3/lib/python3.8/site-packages/kerastuner/engine/multi_execution_tuner.py\u001b[0m in \u001b[0;36m__init__\u001b[0;34m(self, oracle, hypermodel, executions_per_trial, **kwargs)\u001b[0m\n\u001b[1;32m     55\u001b[0m                  \u001b[0mexecutions_per_trial\u001b[0m\u001b[0;34m=\u001b[0m\u001b[0;36m1\u001b[0m\u001b[0;34m,\u001b[0m\u001b[0;34m\u001b[0m\u001b[0;34m\u001b[0m\u001b[0m\n\u001b[1;32m     56\u001b[0m                  **kwargs):\n\u001b[0;32m---> 57\u001b[0;31m         super(MultiExecutionTuner, self).__init__(\n\u001b[0m\u001b[1;32m     58\u001b[0m             oracle, hypermodel, **kwargs)\n\u001b[1;32m     59\u001b[0m         \u001b[0;32mif\u001b[0m \u001b[0misinstance\u001b[0m\u001b[0;34m(\u001b[0m\u001b[0moracle\u001b[0m\u001b[0;34m.\u001b[0m\u001b[0mobjective\u001b[0m\u001b[0;34m,\u001b[0m \u001b[0mlist\u001b[0m\u001b[0;34m)\u001b[0m\u001b[0;34m:\u001b[0m\u001b[0;34m\u001b[0m\u001b[0;34m\u001b[0m\u001b[0m\n",
      "\u001b[0;32m~/opt/anaconda3/lib/python3.8/site-packages/kerastuner/engine/tuner.py\u001b[0m in \u001b[0;36m__init__\u001b[0;34m(self, oracle, hypermodel, max_model_size, optimizer, loss, metrics, distribution_strategy, directory, project_name, logger, tuner_id, overwrite)\u001b[0m\n\u001b[1;32m     96\u001b[0m                 distribution_strategy=distribution_strategy)\n\u001b[1;32m     97\u001b[0m \u001b[0;34m\u001b[0m\u001b[0m\n\u001b[0;32m---> 98\u001b[0;31m         super(Tuner, self).__init__(oracle=oracle,\n\u001b[0m\u001b[1;32m     99\u001b[0m                                     \u001b[0mhypermodel\u001b[0m\u001b[0;34m=\u001b[0m\u001b[0mhypermodel\u001b[0m\u001b[0;34m,\u001b[0m\u001b[0;34m\u001b[0m\u001b[0;34m\u001b[0m\u001b[0m\n\u001b[1;32m    100\u001b[0m                                     \u001b[0mdirectory\u001b[0m\u001b[0;34m=\u001b[0m\u001b[0mdirectory\u001b[0m\u001b[0;34m,\u001b[0m\u001b[0;34m\u001b[0m\u001b[0;34m\u001b[0m\u001b[0m\n",
      "\u001b[0;32m~/opt/anaconda3/lib/python3.8/site-packages/kerastuner/engine/base_tuner.py\u001b[0m in \u001b[0;36m__init__\u001b[0;34m(self, oracle, hypermodel, directory, project_name, logger, overwrite)\u001b[0m\n\u001b[1;32m     89\u001b[0m         \u001b[0mself\u001b[0m\u001b[0;34m.\u001b[0m\u001b[0m_display\u001b[0m \u001b[0;34m=\u001b[0m \u001b[0mtuner_utils\u001b[0m\u001b[0;34m.\u001b[0m\u001b[0mDisplay\u001b[0m\u001b[0;34m(\u001b[0m\u001b[0;34m)\u001b[0m\u001b[0;34m\u001b[0m\u001b[0;34m\u001b[0m\u001b[0m\n\u001b[1;32m     90\u001b[0m \u001b[0;34m\u001b[0m\u001b[0m\n\u001b[0;32m---> 91\u001b[0;31m         \u001b[0mself\u001b[0m\u001b[0;34m.\u001b[0m\u001b[0m_populate_initial_space\u001b[0m\u001b[0;34m(\u001b[0m\u001b[0;34m)\u001b[0m\u001b[0;34m\u001b[0m\u001b[0;34m\u001b[0m\u001b[0m\n\u001b[0m\u001b[1;32m     92\u001b[0m \u001b[0;34m\u001b[0m\u001b[0m\n\u001b[1;32m     93\u001b[0m         \u001b[0;32mif\u001b[0m \u001b[0;32mnot\u001b[0m \u001b[0moverwrite\u001b[0m \u001b[0;32mand\u001b[0m \u001b[0mtf\u001b[0m\u001b[0;34m.\u001b[0m\u001b[0mio\u001b[0m\u001b[0;34m.\u001b[0m\u001b[0mgfile\u001b[0m\u001b[0;34m.\u001b[0m\u001b[0mexists\u001b[0m\u001b[0;34m(\u001b[0m\u001b[0mself\u001b[0m\u001b[0;34m.\u001b[0m\u001b[0m_get_tuner_fname\u001b[0m\u001b[0;34m(\u001b[0m\u001b[0;34m)\u001b[0m\u001b[0;34m)\u001b[0m\u001b[0;34m:\u001b[0m\u001b[0;34m\u001b[0m\u001b[0;34m\u001b[0m\u001b[0m\n",
      "\u001b[0;32m~/opt/anaconda3/lib/python3.8/site-packages/kerastuner/engine/base_tuner.py\u001b[0m in \u001b[0;36m_populate_initial_space\u001b[0;34m(self)\u001b[0m\n\u001b[1;32m    104\u001b[0m         \"\"\"\n\u001b[1;32m    105\u001b[0m         \u001b[0mhp\u001b[0m \u001b[0;34m=\u001b[0m \u001b[0mself\u001b[0m\u001b[0;34m.\u001b[0m\u001b[0moracle\u001b[0m\u001b[0;34m.\u001b[0m\u001b[0mget_space\u001b[0m\u001b[0;34m(\u001b[0m\u001b[0;34m)\u001b[0m\u001b[0;34m\u001b[0m\u001b[0;34m\u001b[0m\u001b[0m\n\u001b[0;32m--> 106\u001b[0;31m         \u001b[0mself\u001b[0m\u001b[0;34m.\u001b[0m\u001b[0mhypermodel\u001b[0m\u001b[0;34m.\u001b[0m\u001b[0mbuild\u001b[0m\u001b[0;34m(\u001b[0m\u001b[0mhp\u001b[0m\u001b[0;34m)\u001b[0m\u001b[0;34m\u001b[0m\u001b[0;34m\u001b[0m\u001b[0m\n\u001b[0m\u001b[1;32m    107\u001b[0m         \u001b[0mself\u001b[0m\u001b[0;34m.\u001b[0m\u001b[0moracle\u001b[0m\u001b[0;34m.\u001b[0m\u001b[0mupdate_space\u001b[0m\u001b[0;34m(\u001b[0m\u001b[0mhp\u001b[0m\u001b[0;34m)\u001b[0m\u001b[0;34m\u001b[0m\u001b[0;34m\u001b[0m\u001b[0m\n\u001b[1;32m    108\u001b[0m \u001b[0;34m\u001b[0m\u001b[0m\n",
      "\u001b[0;32m~/opt/anaconda3/lib/python3.8/site-packages/kerastuner/engine/hypermodel.py\u001b[0m in \u001b[0;36m_build_wrapper\u001b[0;34m(self, hp, *args, **kwargs)\u001b[0m\n\u001b[1;32m     63\u001b[0m             \u001b[0;31m# to the search space.\u001b[0m\u001b[0;34m\u001b[0m\u001b[0;34m\u001b[0m\u001b[0;34m\u001b[0m\u001b[0m\n\u001b[1;32m     64\u001b[0m             \u001b[0mhp\u001b[0m \u001b[0;34m=\u001b[0m \u001b[0mhp\u001b[0m\u001b[0;34m.\u001b[0m\u001b[0mcopy\u001b[0m\u001b[0;34m(\u001b[0m\u001b[0;34m)\u001b[0m\u001b[0;34m\u001b[0m\u001b[0;34m\u001b[0m\u001b[0m\n\u001b[0;32m---> 65\u001b[0;31m         \u001b[0;32mreturn\u001b[0m \u001b[0mself\u001b[0m\u001b[0;34m.\u001b[0m\u001b[0m_build\u001b[0m\u001b[0;34m(\u001b[0m\u001b[0mhp\u001b[0m\u001b[0;34m,\u001b[0m \u001b[0;34m*\u001b[0m\u001b[0margs\u001b[0m\u001b[0;34m,\u001b[0m \u001b[0;34m**\u001b[0m\u001b[0mkwargs\u001b[0m\u001b[0;34m)\u001b[0m\u001b[0;34m\u001b[0m\u001b[0;34m\u001b[0m\u001b[0m\n\u001b[0m\u001b[1;32m     66\u001b[0m \u001b[0;34m\u001b[0m\u001b[0m\n\u001b[1;32m     67\u001b[0m \u001b[0;34m\u001b[0m\u001b[0m\n",
      "\u001b[0;32m~/opt/anaconda3/lib/python3.8/site-packages/kerastuner/engine/hypermodel.py\u001b[0m in \u001b[0;36mbuild\u001b[0;34m(self, hp)\u001b[0m\n\u001b[1;32m    112\u001b[0m \u001b[0;34m\u001b[0m\u001b[0m\n\u001b[1;32m    113\u001b[0m                 \u001b[0;32mif\u001b[0m \u001b[0mi\u001b[0m \u001b[0;34m==\u001b[0m \u001b[0mself\u001b[0m\u001b[0;34m.\u001b[0m\u001b[0m_max_fail_streak\u001b[0m\u001b[0;34m:\u001b[0m\u001b[0;34m\u001b[0m\u001b[0;34m\u001b[0m\u001b[0m\n\u001b[0;32m--> 114\u001b[0;31m                     raise RuntimeError(\n\u001b[0m\u001b[1;32m    115\u001b[0m                         'Too many failed attempts to build model.')\n\u001b[1;32m    116\u001b[0m                 \u001b[0;32mcontinue\u001b[0m\u001b[0;34m\u001b[0m\u001b[0;34m\u001b[0m\u001b[0m\n",
      "\u001b[0;31mRuntimeError\u001b[0m: Too many failed attempts to build model."
     ]
    }
   ],
   "source": [
    "tuner = kt.Hyperband(\n",
    "    build_model,\n",
    "    objective='val_loss',\n",
    "    max_epochs=30,\n",
    "    hyperband_iterations=2)\n",
    "\n",
    "tuner.search(\n",
    "            X_scaled_train,\n",
    "            y_scaled_train,\n",
    "            epochs=10, \n",
    "            callbacks=[tf.keras.callbacks.EarlyStopping(patience=1)]\n",
    ")"
   ]
  },
  {
   "cell_type": "code",
   "execution_count": null,
   "id": "1b3ae664",
   "metadata": {},
   "outputs": [],
   "source": [
    "best_model = tuner.get_best_models(1)[0]\n",
    "best_hyperparameters = tuner.get_best_hyperparameters(1)[0]\n",
    "\n",
    "print(\"best_hyperparameters\", best_hyperparameters)"
   ]
  },
  {
   "cell_type": "code",
   "execution_count": null,
   "id": "b6f1b222",
   "metadata": {},
   "outputs": [],
   "source": [
    "x_to_predict = X_test.iloc[50]\n",
    "\n",
    "y_to_predict = y_test.iloc[50]\n",
    "\n",
    "x_to_predict_scaled = scaler_X.transform([x_to_predict])\n",
    "\n",
    "y_predicted_scaled = best_model.predict(x_to_predict_scaled)\n",
    "\n",
    "y_predicted = scaler_y.inverse_transform(y_predicted_scaled)\n",
    "\n",
    "print(\"Predijo: {}\".format(y_predicted))\n",
    "print(\"Y Real: {}\".format(y_to_predict))"
   ]
  }
 ],
 "metadata": {
  "kernelspec": {
   "display_name": "Python 3 (ipykernel)",
   "language": "python",
   "name": "python3"
  },
  "language_info": {
   "codemirror_mode": {
    "name": "ipython",
    "version": 3
   },
   "file_extension": ".py",
   "mimetype": "text/x-python",
   "name": "python",
   "nbconvert_exporter": "python",
   "pygments_lexer": "ipython3",
   "version": "3.8.2"
  }
 },
 "nbformat": 4,
 "nbformat_minor": 5
}

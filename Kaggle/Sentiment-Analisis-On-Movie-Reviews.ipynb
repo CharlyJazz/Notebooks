{
 "cells": [
  {
   "cell_type": "markdown",
   "metadata": {},
   "source": [
    "# Kaggle - Sentiment Analisis in Movie Reviews\n",
    "\n",
    "Source: https://www.kaggle.com/c/sentiment-analysis-on-movie-reviews/data"
   ]
  },
  {
   "cell_type": "code",
   "execution_count": 35,
   "metadata": {},
   "outputs": [],
   "source": [
    "import pickle\n",
    "import pandas as pd\n",
    "import matplotlib.pyplot as plt\n",
    "import numpy as np\n",
    "\n",
    "from sklearn.feature_extraction.text import TfidfVectorizer\n",
    "from sklearn.naive_bayes import MultinomialNB\n",
    "from sklearn.model_selection import train_test_split\n",
    "from sklearn.metrics import roc_curve, auc"
   ]
  },
  {
   "cell_type": "markdown",
   "metadata": {},
   "source": [
    "# Util function for ploc roc"
   ]
  },
  {
   "cell_type": "code",
   "execution_count": 17,
   "metadata": {},
   "outputs": [],
   "source": [
    "def plot_roc(model, x_columns, y_true, size_x=12, size_y=12):\n",
    "    \"\"\"Returns a ROC plot\n",
    "\n",
    "    Forked from Matt Drury.\n",
    "    \"\"\"\n",
    "\n",
    "    y_pred = model.predict_proba(x_columns)\n",
    "\n",
    "    fpr, tpr, threshold = roc_curve(y_true, y_pred[:, 1])\n",
    "    area_under_curve = auc(fpr, tpr)\n",
    "\n",
    "    # method I: plt\n",
    "    fig, ax = plt.subplots(figsize=(size_x, size_y))\n",
    "    model_name = str(type(model)).split('.')[-1].strip(\">\\'\")\n",
    "    plt.title(f'{model_name} ROC')\n",
    "    ax.plot(fpr, tpr, 'k', label='AUC = %0.3f' % area_under_curve)\n",
    "\n",
    "    ax.legend(loc='lower right')\n",
    "    ax.plot([0, 1], [0, 1], 'r--')\n",
    "    plt.xlim([0, 1])\n",
    "    plt.ylim([0, 1])\n",
    "    plt.ylabel('True Positive Rate')\n",
    "    plt.xlabel('False Positive Rate')\n",
    "    plt.show()"
   ]
  },
  {
   "cell_type": "markdown",
   "metadata": {},
   "source": [
    "# Create a model class to wrapper Tfid vectorizer and the multinomialNB"
   ]
  },
  {
   "cell_type": "code",
   "execution_count": 21,
   "metadata": {},
   "outputs": [],
   "source": [
    "class NLPModel(object):\n",
    "\n",
    "    def __init__(self):\n",
    "        \"\"\"Simple NLP\n",
    "        Attributes:\n",
    "            clf: sklearn classifier model\n",
    "            vectorizor: TFIDF vectorizer or similar\n",
    "        \"\"\"\n",
    "        self.clf = MultinomialNB()\n",
    "        # self.vectorizer = TfidfVectorizer(tokenizer=spacy_tok)\n",
    "        self.vectorizer = TfidfVectorizer()\n",
    "\n",
    "    def vectorizer_fit(self, X):\n",
    "        \"\"\"Fits a TFIDF vectorizer to the text\n",
    "        \"\"\"\n",
    "        self.vectorizer.fit(X)\n",
    "\n",
    "    def vectorizer_transform(self, X):\n",
    "        \"\"\"Transform the text data to a sparse TFIDF matrix\n",
    "        \"\"\"\n",
    "        X_transformed = self.vectorizer.transform(X)\n",
    "        return X_transformed\n",
    "\n",
    "    def train(self, X, y):\n",
    "        \"\"\"Trains the classifier to associate the label with the sparse matrix\n",
    "        \"\"\"\n",
    "        # X_train, X_test, y_train, y_test = train_test_split(X, y)\n",
    "        self.clf.fit(X, y)\n",
    "\n",
    "    def predict_proba(self, X):\n",
    "        \"\"\"Returns probability for the binary class '1' in a numpy array\n",
    "        \"\"\"\n",
    "        y_proba = self.clf.predict_proba(X)\n",
    "        return y_proba[:, 1]\n",
    "\n",
    "    def predict(self, X):\n",
    "        \"\"\"Returns the predicted class in an array\n",
    "        \"\"\"\n",
    "        y_pred = self.clf.predict(X)\n",
    "        return y_pred\n",
    "\n",
    "    def pickle_vectorizer(self, path='./TFIDFVectorizer.pkl'):\n",
    "        \"\"\"Saves the trained vectorizer for future use.\n",
    "        \"\"\"\n",
    "        with open(path, 'wb') as f:\n",
    "            pickle.dump(self.vectorizer, f)\n",
    "            print(\"Pickled vectorizer at {}\".format(path))\n",
    "\n",
    "    def pickle_clf(self, path='./SentimentClassifier.pkl'):\n",
    "        \"\"\"Saves the trained classifier for future use.\n",
    "        \"\"\"\n",
    "        with open(path, 'wb') as f:\n",
    "            pickle.dump(self.clf, f)\n",
    "            print(\"Pickled classifier at {}\".format(path))\n",
    "\n",
    "    def plot_roc(self, X, y, size_x=12, size_y=12):\n",
    "        \"\"\"Plot the ROC curve for X_test and y_test.\n",
    "        \"\"\"\n",
    "        plot_roc(self.clf, X, y, size_x, size_y)\n"
   ]
  },
  {
   "cell_type": "markdown",
   "metadata": {},
   "source": [
    "# Function to build the model"
   ]
  },
  {
   "cell_type": "code",
   "execution_count": 22,
   "metadata": {},
   "outputs": [],
   "source": [
    "def build_model():\n",
    "    model = NLPModel()\n",
    "\n",
    "    with open('./train.tsv') as f:\n",
    "        data = pd.read_csv(f, sep='\\t')\n",
    "\n",
    "    # only 0 and 4 labels\n",
    "    pos_neg = data[(data['Sentiment'] == 0) | (data['Sentiment'] == 4)]\n",
    "    \n",
    "    # convert to 0 or 1\n",
    "    pos_neg['Binary'] = pos_neg.apply(\n",
    "        lambda x: 0 if x['Sentiment'] == 0 else 1, axis=1)\n",
    "\n",
    "    model.vectorizer_fit(pos_neg.loc[:, 'Phrase'])\n",
    "    print('Vectorizer fit complete')\n",
    "\n",
    "    X = model.vectorizer_transform(pos_neg.loc[:, 'Phrase'])\n",
    "    print('Vectorizer transform complete')\n",
    "    y = pos_neg.loc[:, 'Binary']\n",
    "\n",
    "    X_train, X_test, y_train, y_test = train_test_split(X, y)\n",
    "\n",
    "    model.train(X_train, y_train)\n",
    "    print('Model training complete')\n",
    "\n",
    "    model.pickle_clf()\n",
    "    model.pickle_vectorizer()\n",
    "\n",
    "    model.plot_roc(X_test, y_test)"
   ]
  },
  {
   "cell_type": "code",
   "execution_count": 23,
   "metadata": {},
   "outputs": [
    {
     "name": "stderr",
     "output_type": "stream",
     "text": [
      "C:\\Users\\MH916XG\\AppData\\Local\\Continuum\\anaconda3\\lib\\site-packages\\ipykernel_launcher.py:12: SettingWithCopyWarning: \n",
      "A value is trying to be set on a copy of a slice from a DataFrame.\n",
      "Try using .loc[row_indexer,col_indexer] = value instead\n",
      "\n",
      "See the caveats in the documentation: http://pandas.pydata.org/pandas-docs/stable/user_guide/indexing.html#returning-a-view-versus-a-copy\n",
      "  if sys.path[0] == '':\n"
     ]
    },
    {
     "name": "stdout",
     "output_type": "stream",
     "text": [
      "Vectorizer fit complete\n",
      "Vectorizer transform complete\n",
      "Model training complete\n",
      "Pickled classifier at ./SentimentClassifier.pkl\n",
      "Pickled vectorizer at ./TFIDFVectorizer.pkl\n"
     ]
    },
    {
     "data": {
      "image/png": "[encoded data removed]",
      "text/plain": [
       "<Figure size 864x864 with 1 Axes>"
      ]
     },
     "metadata": {
      "needs_background": "light"
     },
     "output_type": "display_data"
    }
   ],
   "source": [
    "build_model()"
   ]
  },
  {
   "cell_type": "markdown",
   "metadata": {},
   "source": [
    "# Load pickles into our model class "
   ]
  },
  {
   "cell_type": "code",
   "execution_count": 31,
   "metadata": {},
   "outputs": [],
   "source": [
    "model = NLPModel()\n",
    "\n",
    "clf_path = './SentimentClassifier.pkl'\n",
    "with open(clf_path, 'rb') as f:\n",
    "    model.clf = pickle.load(f)\n",
    "\n",
    "vec_path = './TFIDFVectorizer.pkl'\n",
    "with open(vec_path, 'rb') as f:\n",
    "    model.vectorizer = pickle.load(f)"
   ]
  },
  {
   "cell_type": "markdown",
   "metadata": {},
   "source": [
    "# Helper to get sentiment label, 0 or 1"
   ]
  },
  {
   "cell_type": "code",
   "execution_count": 50,
   "metadata": {},
   "outputs": [
    {
     "data": {
      "text/plain": [
       "'Positive'"
      ]
     },
     "execution_count": 50,
     "metadata": {},
     "output_type": "execute_result"
    }
   ],
   "source": [
    "def get_sentiment(phrase):\n",
    "    if model.predict(\n",
    "        model.vectorizer_transform(np.array([phrase]))\n",
    "    ) == 0:\n",
    "        sentiment = 'Negative'\n",
    "    else:\n",
    "        sentiment = 'Positive'\n",
    "        \n",
    "    return sentiment\n",
    "\n",
    "get_sentiment('I think the movie was a pretty perfect')"
   ]
  },
  {
   "cell_type": "markdown",
   "metadata": {},
   "source": [
    "# Using the model and test it"
   ]
  },
  {
   "cell_type": "code",
   "execution_count": 66,
   "metadata": {},
   "outputs": [
    {
     "name": "stdout",
     "output_type": "stream",
     "text": [
      "                                        Phrase sentiment\n",
      "400               the supposedly liberal media  Positive\n",
      "401                   supposedly liberal media  Positive\n",
      "402                         supposedly liberal  Positive\n",
      "403                                 supposedly  Negative\n",
      "404                                    liberal  Positive\n",
      "..                                         ...       ...\n",
      "495  is nurturing , in a gauzy , dithering way  Positive\n",
      "496                             is nurturing ,  Positive\n",
      "497                               is nurturing  Positive\n",
      "498                                  nurturing  Positive\n",
      "499                 in a gauzy , dithering way  Negative\n",
      "\n",
      "[100 rows x 2 columns]\n"
     ]
    },
    {
     "name": "stderr",
     "output_type": "stream",
     "text": [
      "C:\\Users\\MH916XG\\AppData\\Local\\Continuum\\anaconda3\\lib\\site-packages\\ipykernel_launcher.py:7: SettingWithCopyWarning: \n",
      "A value is trying to be set on a copy of a slice from a DataFrame.\n",
      "Try using .loc[row_indexer,col_indexer] = value instead\n",
      "\n",
      "See the caveats in the documentation: http://pandas.pydata.org/pandas-docs/stable/user_guide/indexing.html#returning-a-view-versus-a-copy\n",
      "  import sys\n"
     ]
    }
   ],
   "source": [
    "with open('./test.tsv') as f:\n",
    "    data = pd.read_csv(f, sep='\\t')\n",
    "    \n",
    "head = data[400:500]\n",
    "\n",
    "head[\"sentiment\"] = head['Phrase'].apply(\n",
    "    lambda s: get_sentiment(s)\n",
    ")\n",
    "    \n",
    "print(head[['Phrase', 'sentiment']])"
   ]
  }
 ],
 "metadata": {
  "kernelspec": {
   "display_name": "Python 3",
   "language": "python",
   "name": "python3"
  },
  "language_info": {
   "codemirror_mode": {
    "name": "ipython",
    "version": 3
   },
   "file_extension": ".py",
   "mimetype": "text/x-python",
   "name": "python",
   "nbconvert_exporter": "python",
   "pygments_lexer": "ipython3",
   "version": "3.7.4"
  }
 },
 "nbformat": 4,
 "nbformat_minor": 2
}
